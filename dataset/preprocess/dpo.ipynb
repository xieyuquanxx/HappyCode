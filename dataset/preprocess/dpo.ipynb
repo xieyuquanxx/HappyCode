{
 "cells": [
  {
   "cell_type": "code",
   "execution_count": 1,
   "metadata": {},
   "outputs": [],
   "source": [
    "def read_file(file_path: str):\n",
    "    if file_path.endswith(\".parquet\"):\n",
    "        from pandas import read_parquet\n",
    "\n",
    "        data = read_parquet(file_path)\n",
    "    elif file_path.endswith(\".json\"):\n",
    "        import json\n",
    "\n",
    "        data = json.load(open(file_path, \"r\"))\n",
    "    return data\n"
   ]
  },
  {
   "cell_type": "code",
   "execution_count": 2,
   "metadata": {},
   "outputs": [],
   "source": [
    "rlhf_v_path = \"/data/Users/xyq/developer/happy_code/data/rlhf-v/RLHF-V-Dataset.parquet\""
   ]
  },
  {
   "cell_type": "code",
   "execution_count": 3,
   "metadata": {},
   "outputs": [],
   "source": [
    "data = read_file(rlhf_v_path)"
   ]
  },
  {
   "cell_type": "code",
   "execution_count": 6,
   "metadata": {},
   "outputs": [
    {
     "data": {
      "text/plain": [
       "'{\"question\": \"What are the key features you observe in the image?\", \"chosen\": \"A young man standing on stage wearing a white shirt and black pants.\", \"rejected\": \"A young man standing on stage wearing white pants and shoes.\"}'"
      ]
     },
     "execution_count": 6,
     "metadata": {},
     "output_type": "execute_result"
    }
   ],
   "source": [
    "data['text'][0]"
   ]
  }
 ],
 "metadata": {
  "kernelspec": {
   "display_name": ".dpo",
   "language": "python",
   "name": "python3"
  },
  "language_info": {
   "codemirror_mode": {
    "name": "ipython",
    "version": 3
   },
   "file_extension": ".py",
   "mimetype": "text/x-python",
   "name": "python",
   "nbconvert_exporter": "python",
   "pygments_lexer": "ipython3",
   "version": "3.12.1"
  }
 },
 "nbformat": 4,
 "nbformat_minor": 2
}

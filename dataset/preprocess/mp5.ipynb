{
 "cells": [
  {
   "cell_type": "code",
   "execution_count": 26,
   "metadata": {},
   "outputs": [],
   "source": [
    "import os\n",
    "import json\n",
    "\n",
    "from tqdm import tqdm"
   ]
  },
  {
   "cell_type": "code",
   "execution_count": 27,
   "metadata": {},
   "outputs": [],
   "source": [
    "MP5_dir = \"/data/Users/xyq/developer/happy_code/data/MP5_dataset\"\n",
    "\n",
    "version = \"Mine_52k\"\n",
    "\n",
    "instruction_file = f\"{version}_instruct.json\"\n",
    "image_dir = f\"{MP5_dir}/{version}/{version}_image\""
   ]
  },
  {
   "cell_type": "code",
   "execution_count": 28,
   "metadata": {},
   "outputs": [],
   "source": [
    "with open(os.path.join(MP5_dir, version, instruction_file), \"r\") as fi:\n",
    "    data = json.load(fi)"
   ]
  },
  {
   "cell_type": "code",
   "execution_count": 29,
   "metadata": {},
   "outputs": [],
   "source": [
    "need_format = {\n",
    "    \"conversations\": [\n",
    "        {\n",
    "            \"role\": \"User\",\n",
    "            \"content\": \"<image_placeholder>{}\",\n",
    "            \"images\": [],\n",
    "        },\n",
    "        {\"role\": \"Assistant\", \"content\": \"{}\"},\n",
    "    ]\n",
    "}"
   ]
  },
  {
   "cell_type": "code",
   "execution_count": 30,
   "metadata": {},
   "outputs": [
    {
     "name": "stderr",
     "output_type": "stream",
     "text": [
      "  0%|          | 0/526560 [00:00<?, ?it/s]"
     ]
    },
    {
     "name": "stderr",
     "output_type": "stream",
     "text": [
      "100%|██████████| 526560/526560 [00:03<00:00, 155426.20it/s]\n"
     ]
    }
   ],
   "source": [
    "deepseek_vl_data = []\n",
    "for example in tqdm(data):\n",
    "    image = os.path.join(image_dir, example[\"image\"])\n",
    "    conversations = example[\"conversations\"]\n",
    "    user = conversations[0]\n",
    "    user = {\"role\": \"User\", \"content\": \"<image_placeholder>{}\".format(user[\"value\"]), \"images\": [image]}\n",
    "    assistant = conversations[1]\n",
    "    assistant = {\"role\": \"Assistant\", \"content\": assistant[\"value\"]}\n",
    "\n",
    "    deepseek_vl_data.append({\"conversations\": [user, assistant]})\n",
    "    # break"
   ]
  },
  {
   "cell_type": "code",
   "execution_count": 31,
   "metadata": {},
   "outputs": [
    {
     "data": {
      "text/plain": [
       "526560"
      ]
     },
     "execution_count": 31,
     "metadata": {},
     "output_type": "execute_result"
    }
   ],
   "source": [
    "len(deepseek_vl_data)"
   ]
  },
  {
   "cell_type": "code",
   "execution_count": 32,
   "metadata": {},
   "outputs": [],
   "source": [
    "with open(f\"{MP5_dir}/{version}_deepseek_vl_vqa.json\", \"w\") as fo:\n",
    "    json.dump(deepseek_vl_data, fo, indent=4)"
   ]
  },
  {
   "cell_type": "code",
   "execution_count": 33,
   "metadata": {},
   "outputs": [
    {
     "data": {
      "text/plain": [
       "{'conversations': [{'role': 'User',\n",
       "   'content': '<image_placeholder>How would you describe the lighting conditions of the Minecraft scene shown in the image?',\n",
       "   'images': ['/data/Users/xyq/developer/happy_code/data/MP5_dataset/Mine_52k/Mine_52k_image/skeleton_nighttime_23637701_0.jpg']},\n",
       "  {'role': 'Assistant',\n",
       "   'content': \"The lighting conditions of the Minecraft scene shown in the image are excellent. It's quite bright.\"}]}"
      ]
     },
     "execution_count": 33,
     "metadata": {},
     "output_type": "execute_result"
    }
   ],
   "source": [
    "deepseek_vl_data[0]"
   ]
  }
 ],
 "metadata": {
  "kernelspec": {
   "display_name": "xyq",
   "language": "python",
   "name": "python3"
  },
  "language_info": {
   "codemirror_mode": {
    "name": "ipython",
    "version": 3
   },
   "file_extension": ".py",
   "mimetype": "text/x-python",
   "name": "python",
   "nbconvert_exporter": "python",
   "pygments_lexer": "ipython3",
   "version": "3.10.14"
  }
 },
 "nbformat": 4,
 "nbformat_minor": 2
}

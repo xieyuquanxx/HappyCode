{
 "cells": [
  {
   "cell_type": "code",
   "execution_count": 1,
   "metadata": {},
   "outputs": [],
   "source": [
    "import json"
   ]
  },
  {
   "cell_type": "code",
   "execution_count": 6,
   "metadata": {},
   "outputs": [],
   "source": [
    "file = \"20240716_mc_dataset_v1_img4_input_1neg_output_3neg.json\""
   ]
  },
  {
   "cell_type": "code",
   "execution_count": 7,
   "metadata": {},
   "outputs": [],
   "source": [
    "with open(file) as f:\n",
    "    data = json.load(f)"
   ]
  },
  {
   "cell_type": "code",
   "execution_count": 4,
   "metadata": {},
   "outputs": [
    {
     "data": {
      "text/plain": [
       "238873"
      ]
     },
     "execution_count": 4,
     "metadata": {},
     "output_type": "execute_result"
    }
   ],
   "source": [
    "len(data)"
   ]
  },
  {
   "cell_type": "code",
   "execution_count": 8,
   "metadata": {},
   "outputs": [
    {
     "data": {
      "text/plain": [
       "{'conversations': [{'role': 'System',\n",
       "   'content': 'Current goal: craft_sticks\\nPredict the next five actions based on historical observations actions.'},\n",
       "  {'role': 'User',\n",
       "   'type': 'chosen',\n",
       "   'content': '<image_placeholder><a><chat></a><a><chat></a><a><chat></a><a><attack><forward><x>-1.61</x><y>-1.61</y></a><a><attack><forward><x>-10.00</x><y>-10.00</y></a><a><attack><forward><right><x>-10.00</x><y>-10.00</y></a><a><x>1.61</x><y>-5.81</y></a><a><x>5.81</x><y>-3.22</y></a><a><x>3.22</x><y>-5.81</y></a><a><forward><x>0.62</x><y>-0.62</y></a><image_placeholder><a><forward><x>1.61</x><y>-3.22</y></a><a><forward><sprint><x>3.22</x><y>-5.81</y></a><a><forward><sprint><x>0.62</x><y>-10.00</y></a><a><forward><sprint><x>-0.62</x><y>-10.00</y></a><a><forward><sprint><x>0.00</x><y>-10.00</y></a><a><forward><sprint><x>0.62</x><y>-3.22</y></a><a><forward><sprint></a><a><forward><sprint></a><a><forward><sprint><x>-0.62</x><y>10.00</y></a><a><forward><jump><sprint><x>0.00</x><y>10.00</y></a><image_placeholder><a><forward><jump><sprint><x>-0.62</x><y>5.81</y></a><a><forward><jump><sprint></a><a><forward><jump><sprint></a><a><forward><jump><sprint><x>0.00</x><y>-0.62</y></a><a><forward><sprint><x>0.62</x><y>-0.62</y></a><a><forward><sprint><x>1.61</x><y>-3.22</y></a><a><forward><sprint><x>0.00</x><y>-5.81</y></a><a><forward><sprint><x>0.62</x><y>-10.00</y></a><a><forward><sprint><x>0.62</x><y>-5.81</y></a><a><forward><jump><sprint><x>0.00</x><y>-0.62</y></a><image_placeholder>',\n",
       "   'images': ['/data/Users/xyq/developer/happy_code/dataset/mc_dataset_v1/craft_sticks_2522/craft_sticks_2522_frame_0.jpg',\n",
       "    '/data/Users/xyq/developer/happy_code/dataset/mc_dataset_v1/craft_sticks_2522/craft_sticks_2522_frame_1.jpg',\n",
       "    '/data/Users/xyq/developer/happy_code/dataset/mc_dataset_v1/craft_sticks_2522/craft_sticks_2522_frame_2.jpg',\n",
       "    '/data/Users/xyq/developer/happy_code/dataset/mc_dataset_v1/craft_sticks_2522/craft_sticks_2522_frame_3.jpg']},\n",
       "  {'role': 'User',\n",
       "   'type': 'rejected',\n",
       "   'content': '<image_placeholder><a><chat></a><a><chat></a><a><chat></a><a><attack><forward><x>-1.61</x><y>-1.61</y></a><a><attack><forward><x>-10.00</x><y>-10.00</y></a><a><attack><forward><right><x>-10.00</x><y>-10.00</y></a><a><x>1.61</x><y>-5.81</y></a><a><x>5.81</x><y>-3.22</y></a><a><x>3.22</x><y>-5.81</y></a><a><forward><x>0.62</x><y>-0.62</y></a><image_placeholder><a><forward><x>1.61</x><y>-3.22</y></a><a><forward><sprint><x>3.22</x><y>-5.81</y></a><a><forward><sprint><x>0.62</x><y>-10.00</y></a><a><forward><sprint><x>-0.62</x><y>-10.00</y></a><a><forward><sprint><x>0.00</x><y>-10.00</y></a><a><forward><sprint><x>0.62</x><y>-3.22</y></a><a><forward><sprint></a><a><forward><sprint></a><a><forward><sprint><x>-0.62</x><y>10.00</y></a><a><forward><jump><sprint><x>0.00</x><y>10.00</y></a><image_placeholder><a><forward><jump><sprint><x>-0.62</x><y>5.81</y></a><a><forward><jump><sprint></a><a><forward><jump><sprint></a><a><forward><jump><sprint><x>0.00</x><y>-0.62</y></a><a><forward><sprint><x>0.62</x><y>-0.62</y></a><a><forward><sprint><x>1.61</x><y>-3.22</y></a><a><forward><sprint><x>0.00</x><y>-5.81</y></a><a><forward><sprint><x>0.62</x><y>-10.00</y></a><a><forward><sprint><x>0.62</x><y>-5.81</y></a><a><forward><jump><sprint><x>0.00</x><y>-0.62</y></a><image_placeholder>',\n",
       "   'images': ['/data/Users/xyq/developer/happy_code/dataset/mc_dataset_v1/dig_down_and_mine_cobblestone_81/dig_down_and_mine_cobblestone_81_frame_180.jpg',\n",
       "    '/data/Users/xyq/developer/happy_code/dataset/mc_dataset_v1/dig_down_and_mine_cobblestone_81/dig_down_and_mine_cobblestone_81_frame_448.jpg',\n",
       "    '/data/Users/xyq/developer/happy_code/dataset/mc_dataset_v1/dig_down_and_mine_cobblestone_81/dig_down_and_mine_cobblestone_81_frame_137.jpg',\n",
       "    '/data/Users/xyq/developer/happy_code/dataset/mc_dataset_v1/dig_down_and_mine_cobblestone_81/dig_down_and_mine_cobblestone_81_frame_171.jpg']},\n",
       "  {'role': 'Assistant',\n",
       "   'type': 'chosen',\n",
       "   'content': '<a><forward><sprint></a><a><forward><sprint><x>0.62</x><y>0.00</y></a><a><forward><x>0.62</x><y>0.00</y></a><a><forward><sprint><x>0.62</x><y>0.62</y></a><a><forward><sprint><x>1.61</x><y>1.61</y></a><a><forward><sprint><x>1.61</x><y>1.61</y></a><a><forward><sprint><x>0.00</x><y>0.62</y></a><a><forward></a><a><forward><sprint></a><a><attack><forward><x>0.62</x><y>0.62</y></a>'},\n",
       "  {'role': 'Assistant',\n",
       "   'type': 'rejected',\n",
       "   'content': '<a><left></a><a><right><ESC><hotbar.3></a><a><jump><hotbar.4><forward></a><a><right></a><a><hotbar.1></a><a><hotbar.8><use></a><a><inventory></a><a><forward></a><a><hotbar.5></a><a><inventory><jump><hotbar.2></a>'},\n",
       "  {'role': 'Assistant',\n",
       "   'type': 'rejected',\n",
       "   'content': '<a><jump><x>-8.08</x><y>-9.55</y><hotbar.1></a><a><left></a><a><hotbar.2><hotbar.7></a><a><jump><left></a><a><use><hotbar.5></a><a><hotbar.6></a><a><hotbar.9><forward></a><a><hotbar.7></a><a><jump><left><hotbar.6></a><a><forward></a>'},\n",
       "  {'role': 'Assistant',\n",
       "   'type': 'rejected',\n",
       "   'content': '<a><use><hotbar.5></a><a><jump><hotbar.1></a><a><back></a><a><hotbar.5></a><a><x>3.16</x><y>9.03</y></a><a><attack></a><a><hotbar.6><hotbar.2></a><a><hotbar.4><use></a><a><forward></a><a><hotbar.4><jump></a>'}]}"
      ]
     },
     "execution_count": 8,
     "metadata": {},
     "output_type": "execute_result"
    }
   ],
   "source": [
    "data[0]"
   ]
  }
 ],
 "metadata": {
  "kernelspec": {
   "display_name": ".dpo",
   "language": "python",
   "name": "python3"
  },
  "language_info": {
   "codemirror_mode": {
    "name": "ipython",
    "version": 3
   },
   "file_extension": ".py",
   "mimetype": "text/x-python",
   "name": "python",
   "nbconvert_exporter": "python",
   "pygments_lexer": "ipython3",
   "version": "3.12.1"
  }
 },
 "nbformat": 4,
 "nbformat_minor": 2
}

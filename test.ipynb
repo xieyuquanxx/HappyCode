{
 "cells": [
  {
   "cell_type": "code",
   "execution_count": 12,
   "metadata": {},
   "outputs": [],
   "source": [
    "import json\n",
    "\n",
    "from tqdm import tqdm\n"
   ]
  },
  {
   "cell_type": "code",
   "execution_count": 2,
   "metadata": {},
   "outputs": [],
   "source": [
    "file = \"/data/Users/xyq/developer/happy_code/dataset/mc_dataset_v2_img4.json\"\n",
    "\n",
    "with open(file, \"r\") as f:\n",
    "    data = json.load(f)"
   ]
  },
  {
   "cell_type": "code",
   "execution_count": 8,
   "metadata": {},
   "outputs": [
    {
     "data": {
      "text/plain": [
       "[{'role': 'System',\n",
       "  'content': 'Current goal: craft_sticks\\nPredict the next five actions based on historical observations actions.'},\n",
       " {'role': 'User',\n",
       "  'type': 'chosen',\n",
       "  'content': '<image_placeholder><a><chat></a><a><chat></a><a><chat></a><a><attack><forward><x>-1.61</x><y>-1.61</y></a><a><attack><forward><x>-10.00</x><y>-10.00</y></a><a><attack><forward><right><x>-10.00</x><y>-10.00</y></a><a><x>1.61</x><y>-5.81</y></a><a><x>5.81</x><y>-3.22</y></a><a><x>3.22</x><y>-5.81</y></a><a><forward><x>0.62</x><y>-0.62</y></a><image_placeholder><a><forward><x>1.61</x><y>-3.22</y></a><a><forward><sprint><x>3.22</x><y>-5.81</y></a><a><forward><sprint><x>0.62</x><y>-10.00</y></a><a><forward><sprint><x>-0.62</x><y>-10.00</y></a><a><forward><sprint><x>0.00</x><y>-10.00</y></a><a><forward><sprint><x>0.62</x><y>-3.22</y></a><a><forward><sprint></a><a><forward><sprint></a><a><forward><sprint><x>-0.62</x><y>10.00</y></a><a><forward><jump><sprint><x>0.00</x><y>10.00</y></a><image_placeholder><a><forward><jump><sprint><x>-0.62</x><y>5.81</y></a><a><forward><jump><sprint></a><a><forward><jump><sprint></a><a><forward><jump><sprint><x>0.00</x><y>-0.62</y></a><a><forward><sprint><x>0.62</x><y>-0.62</y></a><a><forward><sprint><x>1.61</x><y>-3.22</y></a><a><forward><sprint><x>0.00</x><y>-5.81</y></a><a><forward><sprint><x>0.62</x><y>-10.00</y></a><a><forward><sprint><x>0.62</x><y>-5.81</y></a><a><forward><jump><sprint><x>0.00</x><y>-0.62</y></a>',\n",
       "  'images': ['/data/Users/xyq/developer/happy_code/dataset/mc_dataset_v2/craft_sticks_2522/craft_sticks_2522_frame_0.jpg',\n",
       "   '/data/Users/xyq/developer/happy_code/dataset/mc_dataset_v2/craft_sticks_2522/craft_sticks_2522_frame_1.jpg',\n",
       "   '/data/Users/xyq/developer/happy_code/dataset/mc_dataset_v2/craft_sticks_2522/craft_sticks_2522_frame_2.jpg',\n",
       "   '/data/Users/xyq/developer/happy_code/dataset/mc_dataset_v2/craft_sticks_2522/craft_sticks_2522_frame_3.jpg']},\n",
       " {'role': 'Assistant',\n",
       "  'type': 'chosen',\n",
       "  'content': '<a><forward><sprint></a><a><forward><sprint><x>0.62</x><y>0.00</y></a><a><forward><x>0.62</x><y>0.00</y></a><a><forward><sprint><x>0.62</x><y>0.62</y></a><a><forward><sprint><x>1.61</x><y>1.61</y></a><a><forward><sprint><x>1.61</x><y>1.61</y></a><a><forward><sprint><x>0.00</x><y>0.62</y></a><a><forward></a><a><forward><sprint></a><a><attack><forward><x>0.62</x><y>0.62</y></a>'},\n",
       " {'role': 'Assistant',\n",
       "  'type': 'rejected',\n",
       "  'content': '<a><hotbar.8><right></a><a><ESC></a><a><attack><right></a><a><forward></a><a><attack></a><a><hotbar.4><hotbar.5><sprint></a><a><inventory></a><a><sprint></a><a><hotbar.1><drop><attack></a><a><hotbar.9></a>'},\n",
       " {'role': 'Assistant',\n",
       "  'type': 'rejected',\n",
       "  'content': '<a><hotbar.6><inventory><sprint></a><a><ESC></a><a><hotbar.9></a><a><forward></a><a><hotbar.1><hotbar.2></a><a><right></a><a><inventory></a><a><attack><hotbar.1><hotbar.2></a><a><jump></a><a><drop><right></a>'},\n",
       " {'role': 'Assistant',\n",
       "  'type': 'rejected',\n",
       "  'content': '<a><use><hotbar.5></a><a><sprint><right></a><a><x>-3.65</x><y>-2.81</y><x>-1.93</x><y>-9.42</y></a><a><left><x>5.70</x><y>3.77</y></a><a><forward><attack></a><a><right></a><a><drop><hotbar.5></a><a><back><use><drop></a><a><x>-3.03</x><y>-1.85</y></a><a><hotbar.9><hotbar.1></a>'}]"
      ]
     },
     "execution_count": 8,
     "metadata": {},
     "output_type": "execute_result"
    }
   ],
   "source": [
    "data[0][\"conversations\"]"
   ]
  },
  {
   "cell_type": "code",
   "execution_count": 13,
   "metadata": {},
   "outputs": [
    {
     "name": "stderr",
     "output_type": "stream",
     "text": [
      "100%|██████████| 238875/238875 [00:00<00:00, 323544.58it/s]\n"
     ]
    }
   ],
   "source": [
    "vanlia_dpo = []\n",
    "\n",
    "for item in tqdm(data):\n",
    "    conversations = item[\"conversations\"][:-2]\n",
    "    vanlia_dpo.append({\"conversations\": conversations})\n",
    "with open(\"vanlia_dpo.json\", \"w\") as f:\n",
    "    json.dump(vanlia_dpo, f)"
   ]
  },
  {
   "cell_type": "code",
   "execution_count": 14,
   "metadata": {},
   "outputs": [
    {
     "data": {
      "text/plain": [
       "{'conversations': [{'role': 'System',\n",
       "   'content': 'Current goal: craft_sticks\\nPredict the next five actions based on historical observations actions.'},\n",
       "  {'role': 'User',\n",
       "   'type': 'chosen',\n",
       "   'content': '<image_placeholder><a><chat></a><a><chat></a><a><chat></a><a><attack><forward><x>-1.61</x><y>-1.61</y></a><a><attack><forward><x>-10.00</x><y>-10.00</y></a><a><attack><forward><right><x>-10.00</x><y>-10.00</y></a><a><x>1.61</x><y>-5.81</y></a><a><x>5.81</x><y>-3.22</y></a><a><x>3.22</x><y>-5.81</y></a><a><forward><x>0.62</x><y>-0.62</y></a><image_placeholder><a><forward><x>1.61</x><y>-3.22</y></a><a><forward><sprint><x>3.22</x><y>-5.81</y></a><a><forward><sprint><x>0.62</x><y>-10.00</y></a><a><forward><sprint><x>-0.62</x><y>-10.00</y></a><a><forward><sprint><x>0.00</x><y>-10.00</y></a><a><forward><sprint><x>0.62</x><y>-3.22</y></a><a><forward><sprint></a><a><forward><sprint></a><a><forward><sprint><x>-0.62</x><y>10.00</y></a><a><forward><jump><sprint><x>0.00</x><y>10.00</y></a><image_placeholder><a><forward><jump><sprint><x>-0.62</x><y>5.81</y></a><a><forward><jump><sprint></a><a><forward><jump><sprint></a><a><forward><jump><sprint><x>0.00</x><y>-0.62</y></a><a><forward><sprint><x>0.62</x><y>-0.62</y></a><a><forward><sprint><x>1.61</x><y>-3.22</y></a><a><forward><sprint><x>0.00</x><y>-5.81</y></a><a><forward><sprint><x>0.62</x><y>-10.00</y></a><a><forward><sprint><x>0.62</x><y>-5.81</y></a><a><forward><jump><sprint><x>0.00</x><y>-0.62</y></a>',\n",
       "   'images': ['/data/Users/xyq/developer/happy_code/dataset/mc_dataset_v2/craft_sticks_2522/craft_sticks_2522_frame_0.jpg',\n",
       "    '/data/Users/xyq/developer/happy_code/dataset/mc_dataset_v2/craft_sticks_2522/craft_sticks_2522_frame_1.jpg',\n",
       "    '/data/Users/xyq/developer/happy_code/dataset/mc_dataset_v2/craft_sticks_2522/craft_sticks_2522_frame_2.jpg',\n",
       "    '/data/Users/xyq/developer/happy_code/dataset/mc_dataset_v2/craft_sticks_2522/craft_sticks_2522_frame_3.jpg']},\n",
       "  {'role': 'Assistant',\n",
       "   'type': 'chosen',\n",
       "   'content': '<a><forward><sprint></a><a><forward><sprint><x>0.62</x><y>0.00</y></a><a><forward><x>0.62</x><y>0.00</y></a><a><forward><sprint><x>0.62</x><y>0.62</y></a><a><forward><sprint><x>1.61</x><y>1.61</y></a><a><forward><sprint><x>1.61</x><y>1.61</y></a><a><forward><sprint><x>0.00</x><y>0.62</y></a><a><forward></a><a><forward><sprint></a><a><attack><forward><x>0.62</x><y>0.62</y></a>'},\n",
       "  {'role': 'Assistant',\n",
       "   'type': 'rejected',\n",
       "   'content': '<a><hotbar.8><right></a><a><ESC></a><a><attack><right></a><a><forward></a><a><attack></a><a><hotbar.4><hotbar.5><sprint></a><a><inventory></a><a><sprint></a><a><hotbar.1><drop><attack></a><a><hotbar.9></a>'}]}"
      ]
     },
     "execution_count": 14,
     "metadata": {},
     "output_type": "execute_result"
    }
   ],
   "source": [
    "vanlia_dpo[0]"
   ]
  },
  {
   "cell_type": "code",
   "execution_count": 15,
   "metadata": {},
   "outputs": [
    {
     "data": {
      "text/plain": [
       "238875"
      ]
     },
     "execution_count": 15,
     "metadata": {},
     "output_type": "execute_result"
    }
   ],
   "source": [
    "len(vanlia_dpo)"
   ]
  }
 ],
 "metadata": {
  "kernelspec": {
   "display_name": ".mc",
   "language": "python",
   "name": "python3"
  },
  "language_info": {
   "codemirror_mode": {
    "name": "ipython",
    "version": 3
   },
   "file_extension": ".py",
   "mimetype": "text/x-python",
   "name": "python",
   "nbconvert_exporter": "python",
   "pygments_lexer": "ipython3",
   "version": "3.11.9"
  }
 },
 "nbformat": 4,
 "nbformat_minor": 2
}

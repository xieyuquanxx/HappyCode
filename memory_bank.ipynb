{
 "cells": [
  {
   "cell_type": "code",
   "execution_count": 1,
   "metadata": {},
   "outputs": [
    {
     "name": "stderr",
     "output_type": "stream",
     "text": [
      "/data/Users/xyq/developer/happy_code/.venv/.dpo/lib/python3.12/site-packages/tqdm/auto.py:21: TqdmWarning: IProgress not found. Please update jupyter and ipywidgets. See https://ipywidgets.readthedocs.io/en/stable/user_install.html\n",
      "  from .autonotebook import tqdm as notebook_tqdm\n"
     ]
    },
    {
     "name": "stdout",
     "output_type": "stream",
     "text": [
      "[2024-07-19 13:21:12,205] [INFO] [real_accelerator.py:203:get_accelerator] Setting ds_accelerator to cuda (auto detect)\n",
      "\u001b[93m [WARNING] \u001b[0m Please specify the CUTLASS repo directory as environment variable $CUTLASS_PATH\n",
      "\u001b[93m [WARNING] \u001b[0m sparse_attn requires a torch version >= 1.5 and < 2.0 but detected 2.3\n",
      "\u001b[93m [WARNING] \u001b[0m please install triton==1.0.0 if you want to use sparse attention\n",
      "Python version is above 3.10, patching the collections module.\n",
      "Python version is above 3.10, patching the collections module.\n"
     ]
    }
   ],
   "source": [
    "from transformers import (\n",
    "     Blip2QFormerConfig,\n",
    "     Blip2QFormerModel,\n",
    " )\n",
    "import sys\n",
    "\n",
    "import torch\n",
    "from transformers import AutoModelForCausalLM\n",
    "\n",
    "from model.memory_bank_ours.models import VLChatProcessor,apply_memory_bank\n",
    "\n",
    "from model.deepseek_vl.utils.io import load_pil_images\n",
    "from torch import nn\n",
    "from einops import rearrange\n",
    "from torchsummary import summary"
   ]
  },
  {
   "cell_type": "code",
   "execution_count": 2,
   "metadata": {},
   "outputs": [],
   "source": [
    "model_path = \"checkpoints/memory_bank_1.3b_based_on_sft/2024-07-18-22-20\""
   ]
  },
  {
   "cell_type": "code",
   "execution_count": 3,
   "metadata": {},
   "outputs": [
    {
     "name": "stderr",
     "output_type": "stream",
     "text": [
      "Special tokens have been added in the vocabulary, make sure the associated word embeddings are fine-tuned or trained.\n"
     ]
    }
   ],
   "source": [
    "model = AutoModelForCausalLM.from_pretrained(model_path).to(\"cuda:3\", torch.float16).eval()\n",
    "vl_chat_processor = VLChatProcessor.from_pretrained(model_path)\n",
    "tokenizer = vl_chat_processor.tokenizer"
   ]
  },
  {
   "cell_type": "code",
   "execution_count": 13,
   "metadata": {},
   "outputs": [],
   "source": [
    "vl_chat_processor.num_image_tokens = model.model_config.qformer_config.num_query_tokens"
   ]
  },
  {
   "cell_type": "code",
   "execution_count": 4,
   "metadata": {},
   "outputs": [],
   "source": [
    "conversation = [\n",
    "\n",
    "      {\n",
    "        \"role\": \"User\",\n",
    "        \"type\": \"chosen\",\n",
    "        \"content\": \"Current Goal: chop a tree. Predict the fice action. <image_placeholder><a><action></a><image_placeholder>\",\n",
    "        \"images\": [\n",
    "          \"/data/Users/xyq/developer/happy_code/data/action_dpo/v1/mc_dataset_test/chop_a_tree_3/chop_a_tree_3_frame_0.jpg\",\n",
    "          \"/data/Users/xyq/developer/happy_code/data/action_dpo/v1/mc_dataset_test/chop_a_tree_3/chop_a_tree_3_frame_3.jpg\"\n",
    "        ]\n",
    "      },{\n",
    "          \"role\": \"Assistant\",\n",
    "          \"content\": \"\"\n",
    "      }\n",
    "      ]"
   ]
  },
  {
   "cell_type": "code",
   "execution_count": 14,
   "metadata": {},
   "outputs": [],
   "source": [
    "pil_images = load_pil_images(conversation)\n",
    "prepare_inputs = vl_chat_processor(conversations=conversation, images=pil_images, force_batchify=True).to(\n",
    "    model.device, torch.float16\n",
    ")"
   ]
  },
  {
   "cell_type": "code",
   "execution_count": 15,
   "metadata": {},
   "outputs": [
    {
     "data": {
      "text/plain": [
       "torch.Size([1, 126])"
      ]
     },
     "execution_count": 15,
     "metadata": {},
     "output_type": "execute_result"
    }
   ],
   "source": [
    "prepare_inputs[\"images_seq_mask\"].shape"
   ]
  },
  {
   "cell_type": "code",
   "execution_count": 17,
   "metadata": {},
   "outputs": [
    {
     "data": {
      "text/plain": [
       "' <a><attack></a><a><attack></a><a><attack></a><a><attack></a><｜end▁of▁sentence｜>'"
      ]
     },
     "execution_count": 17,
     "metadata": {},
     "output_type": "execute_result"
    }
   ],
   "source": [
    "input_embeds = model.prepare_inputs_embeds(**prepare_inputs)\n",
    "\n",
    "outputs = model.language_model.generate(\n",
    "    inputs_embeds=input_embeds,\n",
    "    attention_mask=prepare_inputs.attention_mask,\n",
    "    pad_token_id=tokenizer.eos_token_id,\n",
    "    bos_token_id=tokenizer.bos_token_id,\n",
    "    eos_token_id=tokenizer.eos_token_id,\n",
    "    max_new_tokens=128,\n",
    "    do_sample=False,\n",
    "    use_cache=True,\n",
    ")\n",
    "\n",
    "answer = tokenizer.decode(outputs[0].cpu().tolist(), skip_special_tokens=False)\n",
    "answer"
   ]
  }
 ],
 "metadata": {
  "kernelspec": {
   "display_name": ".dpo",
   "language": "python",
   "name": "python3"
  },
  "language_info": {
   "codemirror_mode": {
    "name": "ipython",
    "version": 3
   },
   "file_extension": ".py",
   "mimetype": "text/x-python",
   "name": "python",
   "nbconvert_exporter": "python",
   "pygments_lexer": "ipython3",
   "version": "3.12.1"
  }
 },
 "nbformat": 4,
 "nbformat_minor": 2
}
